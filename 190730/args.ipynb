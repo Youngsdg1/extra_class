{
 "cells": [
  {
   "cell_type": "code",
   "execution_count": null,
   "metadata": {},
   "outputs": [],
   "source": [
    "# 몇 개가 들어올지 모르겠는데, 다 받아줘야할 떄 쓰는거\n",
    "\n",
    "def my_add(*args):  # 몇 개인지 모르지만, 걍 여러개가 ','로 나눠서 들어올거야\n",
    "    return sum(args)  # 그러면 나는 다 묶어서 tuple 만들거야"
   ]
  },
  {
   "cell_type": "code",
   "execution_count": null,
   "metadata": {},
   "outputs": [],
   "source": [
    "my_add"
   ]
  },
  {
   "cell_type": "code",
   "execution_count": null,
   "metadata": {},
   "outputs": [],
   "source": [
    "def make_dict(**kwargs):  # 뭐가 몇개나 들어올진 모르겠는데, key=value 형태로 들어올거야~ 너가 알아서 딕셔너리로 묶어줘 라는 뜻\n",
    "    print(kwargs)  # 그러면 나는 다 묶어서 내맘대로 dict 만들거야.\n",
    "    return kwargs\n",
    "\n",
    "make_dict(a=1, b=2, c=3, b=4)\n"
   ]
  },
  {
   "cell_type": "code",
   "execution_count": 8,
   "metadata": {},
   "outputs": [
    {
     "data": {
      "text/plain": [
       "8"
      ]
     },
     "execution_count": 8,
     "metadata": {},
     "output_type": "execute_result"
    }
   ],
   "source": [
    "# 재귀\n",
    "\n",
    "# x의 n 거듭제곱 구하기 == x ** n\n",
    "\n",
    "def power(x, n):\n",
    "    if n == 0:\n",
    "        return 1  # 여기 break가 아니고 return 1 임..\n",
    "    else:\n",
    "        return power(x, n-1) * x\n",
    "        \n",
    "\n",
    "power(2, 3)  # 직전 결과에 계속 2를 곱하는것. power(2,2) * 2 == power(2, 1) * 2 * 2 == 2 * 2 * 2"
   ]
  },
  {
   "cell_type": "code",
   "execution_count": 4,
   "metadata": {},
   "outputs": [
    {
     "data": {
      "text/plain": [
       "8"
      ]
     },
     "execution_count": 4,
     "metadata": {},
     "output_type": "execute_result"
    }
   ],
   "source": [
    "def power(x, n):\n",
    "    result = 1\n",
    "    while n > 0:\n",
    "        result = result * x\n",
    "        n = n - 1\n",
    "    return result\n",
    "\n",
    "power(2, 3)\n",
    "# n:3 result:1\n",
    "    # n:2 result:4\n",
    "    # n:1 result:8\n",
    "    # n:0\n",
    "#return 8"
   ]
  }
 ],
 "metadata": {
  "kernelspec": {
   "display_name": "Python 3",
   "language": "python",
   "name": "python3"
  },
  "language_info": {
   "codemirror_mode": {
    "name": "ipython",
    "version": 3
   },
   "file_extension": ".py",
   "mimetype": "text/x-python",
   "name": "python",
   "nbconvert_exporter": "python",
   "pygments_lexer": "ipython3",
   "version": "3.7.4"
  }
 },
 "nbformat": 4,
 "nbformat_minor": 2
}
