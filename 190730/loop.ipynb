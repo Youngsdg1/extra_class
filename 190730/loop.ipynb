{
 "cells": [
  {
   "cell_type": "code",
   "execution_count": 2,
   "metadata": {},
   "outputs": [
    {
     "name": "stdout",
     "output_type": "stream",
     "text": [
      "0\n",
      "1\n",
      "2\n",
      "3\n",
      "4\n",
      "5\n",
      "6\n"
     ]
    }
   ],
   "source": [
    "# for break\n",
    "for i in range(10):\n",
    "    if i == 7:\n",
    "        break\n",
    "    print(i)"
   ]
  },
  {
   "cell_type": "code",
   "execution_count": 3,
   "metadata": {
    "scrolled": true
   },
   "outputs": [
    {
     "name": "stdout",
     "output_type": "stream",
     "text": [
      "7\n"
     ]
    }
   ],
   "source": [
    "for i in range(10):\n",
    "    if i == 7:\n",
    "        break\n",
    "print(i)"
   ]
  },
  {
   "cell_type": "code",
   "execution_count": 7,
   "metadata": {},
   "outputs": [
    {
     "name": "stdout",
     "output_type": "stream",
     "text": [
      "find it\n"
     ]
    }
   ],
   "source": [
    "# while break\n",
    "my_list = [1, 2, 3, 4, 5]  # 여기서 4를 찾을때까지 돌린다면?!\n",
    "\n",
    "find_it = False\n",
    "idx = 0\n",
    "while not find_it:# while 뒤에는 무조건 T/F가 나와야돼\n",
    "    if my_list[idx] == 4:\n",
    "        print('find it')\n",
    "        find_it = True  # 이게 break 필요없는 와일문\n",
    "    idx += 1"
   ]
  },
  {
   "cell_type": "code",
   "execution_count": 6,
   "metadata": {},
   "outputs": [
    {
     "name": "stdout",
     "output_type": "stream",
     "text": [
      "find it\n"
     ]
    }
   ],
   "source": [
    "# while break\n",
    "my_list = [1, 2, 3, 4, 5]  # 여기서 4를 찾을때까지 돌린다면?!\n",
    "\n",
    "\n",
    "idx = 0\n",
    "while True:# while 뒤에는 무조건 T/F가 나와야돼\n",
    "    if my_list[idx] == 4:\n",
    "        print('find it')\n",
    "        break  # 이게 break 있는 와일문\n",
    "    idx += 1"
   ]
  },
  {
   "cell_type": "code",
   "execution_count": 8,
   "metadata": {},
   "outputs": [],
   "source": [
    "#만약 내가 원하는 값(플래그)이 없으면 무한히 돌아\n",
    "my_list = [1, 2, 3, 4, 5]\n",
    "\n",
    "\n",
    "idx = 0\n",
    "key = 100\n",
    "while idx < len(my_list):\n",
    "    if my_list[idx] == key:\n",
    "        print('find it')\n",
    "        break\n",
    "    idx += 1"
   ]
  },
  {
   "cell_type": "code",
   "execution_count": 9,
   "metadata": {},
   "outputs": [
    {
     "name": "stdout",
     "output_type": "stream",
     "text": [
      "0\n",
      "1\n",
      "2\n",
      "3\n",
      "4\n",
      "5\n",
      "6\n"
     ]
    }
   ],
   "source": [
    "# for문은 처음부터 끝까지 순차적으로 돈다 는게 핵심\n",
    "for i in range(10):\n",
    "    if i == 7:\n",
    "        break\n",
    "    print(i)"
   ]
  },
  {
   "cell_type": "code",
   "execution_count": 18,
   "metadata": {},
   "outputs": [],
   "source": [
    "some_list = ['이번주 점심메뉴',\n",
    "    '비빔밥',\n",
    "    '부대찌개',\n",
    "    '파스타',\n",
    "    '삼계탕'\n",
    "]"
   ]
  },
  {
   "cell_type": "code",
   "execution_count": 19,
   "metadata": {},
   "outputs": [
    {
     "name": "stdout",
     "output_type": "stream",
     "text": [
      "비빔밥\n",
      "부대찌개\n",
      "파스타\n",
      "삼계탕\n"
     ]
    }
   ],
   "source": [
    "for idx, line in enumerate(some_list):\n",
    "    if idx == 0:  # d인덱스가 0이면, 다음 회차로 넘어가라\n",
    "        continue\n",
    "    print(line)  # line을 출력"
   ]
  },
  {
   "cell_type": "code",
   "execution_count": 20,
   "metadata": {},
   "outputs": [
    {
     "name": "stdout",
     "output_type": "stream",
     "text": [
      "비빔밥\n",
      "부대찌개\n",
      "파스타\n",
      "삼계탕\n"
     ]
    }
   ],
   "source": [
    "for idx, line in enumerate(some_list):\n",
    "    if not idx == 0:  # index가 0 일 때만 print해라\n",
    "        print(line)\n",
    "    "
   ]
  },
  {
   "cell_type": "code",
   "execution_count": 21,
   "metadata": {
    "scrolled": true
   },
   "outputs": [
    {
     "name": "stdout",
     "output_type": "stream",
     "text": [
      "비빔밥\n",
      "부대찌개\n",
      "파스타\n",
      "삼계탕\n"
     ]
    }
   ],
   "source": [
    "idx = 0\n",
    "while idx < len(some_list):\n",
    "    if idx == 0:\n",
    "        idx +=1\n",
    "        continue\n",
    "    print(some_list[idx])\n",
    "    idx += 1"
   ]
  },
  {
   "cell_type": "markdown",
   "metadata": {},
   "source": [
    "# Break, continue 중첩"
   ]
  },
  {
   "cell_type": "code",
   "execution_count": 36,
   "metadata": {},
   "outputs": [
    {
     "name": "stdout",
     "output_type": "stream",
     "text": [
      "i:0 j:0 k:0 j:1 j:2 k:0 i:1 j:0 j:1 k:0 j:2 i:2 j:0 k:0 j:1 j:2 k:0 "
     ]
    }
   ],
   "source": [
    "for i in range(3): # end='' 이거는 가로로 나오게 하는거임\n",
    "    print(f'i:{i}', end=' ')\n",
    "    for j in range(3):\n",
    "        print(f'j:{j}', end=' ')\n",
    "        for k in range(3):\n",
    "            if (i + j + k) % 2 == 1:\n",
    "                break\n",
    "            print(f'k:{k}', end=' ')"
   ]
  },
  {
   "cell_type": "code",
   "execution_count": null,
   "metadata": {},
   "outputs": [],
   "source": [
    "flag1 = True\n",
    "flag2 = True\n",
    "falg3 = True\n",
    "\n",
    "while flag1:\n",
    "    while falg2:\n",
    "        while flag3:\n",
    "            if True:\n",
    "                falg2 = False  # 이런식으로 조작해야돼~  플래그를 두고 내가 원할때 넣었다 뺐다 할 수 있게 하려고!"
   ]
  },
  {
   "cell_type": "markdown",
   "metadata": {},
   "source": [
    "accum(\"abcd\") -> \"A-Bb-Ccc-Dddd\"\n",
    "accum(\"RqaEzty\") -> \"R-Qq-Aaa-Eeee-Zzzzz-Tttttt-Yyyyyyy\"\n",
    "accum(\"cwAt\") -> \"C-Ww-Aaa-Tttt\""
   ]
  },
  {
   "cell_type": "code",
   "execution_count": null,
   "metadata": {},
   "outputs": [],
   "source": [
    "input_string = input()\n",
    "\n",
    "def accum(s):\n",
    "    result = ''\n",
    "    for idx, string in enumerate(s):\n",
    "        result += s[idx] * (idx + 1)\n",
    "    return result\n",
    "        \n",
    "#         print(s[(idx-1)]*idx)\n",
    "#             return s[i] * (i+1)\n",
    "    # string을 처음 - 마지막 도는데, n+1 번째 인덱스를 n+1개 출력한다.\n",
    "\n",
    "print(accum(input_string))"
   ]
  },
  {
   "cell_type": "code",
   "execution_count": 23,
   "metadata": {},
   "outputs": [
    {
     "data": {
      "text/plain": [
       "'ffff'"
      ]
     },
     "execution_count": 23,
     "metadata": {},
     "output_type": "execute_result"
    }
   ],
   "source": [
    "s = 'asdf'\n",
    "s[0] * 1\n",
    "s[1] * 2\n",
    "s[2] * 3\n",
    "s[3] * 4"
   ]
  }
 ],
 "metadata": {
  "kernelspec": {
   "display_name": "Python 3",
   "language": "python",
   "name": "python3"
  },
  "language_info": {
   "codemirror_mode": {
    "name": "ipython",
    "version": 3
   },
   "file_extension": ".py",
   "mimetype": "text/x-python",
   "name": "python",
   "nbconvert_exporter": "python",
   "pygments_lexer": "ipython3",
   "version": "3.7.4"
  }
 },
 "nbformat": 4,
 "nbformat_minor": 2
}
